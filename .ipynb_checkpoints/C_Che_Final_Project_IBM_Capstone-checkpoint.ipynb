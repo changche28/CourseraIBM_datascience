{
 "cells": [
  {
   "cell_type": "markdown",
   "metadata": {},
   "source": [
    "# Final Project\n",
    "\n",
    "Chang Che\\\n",
    "Dec 2019"
   ]
  },
  {
   "cell_type": "markdown",
   "metadata": {},
   "source": [
    "## Research Question Description\n",
    "\n",
    "In the first section, I will provide a description of the problem and a discussion of the background.\n",
    "\n",
    "I am curious: __What venues are missing in the South Bend/Mishawaka area of Indiana__ since Mayor Pete Buttigieg, our mayor of South Bend came in the mayor's office?\n",
    "\n",
    "We know that Mayor Pete Buttigieg is a rising star since he announced running for 2020 election of the President of the United States since last year. He has been the major of our local area since 2012 (seven years ago). Aged only 37, he is not only the youngest democratic candidate, but also he has done a lot of local policy for the improvent to our communities and neighborhoods.\n",
    "\n",
    "The city of South Bend is the fourth largest city in Indiana. However, for many years, it has been seen as one of the most decaying cities in the mid-west. __Comparing with the the largest city of Indiana, Indianapolis is my major interest here.__\n",
    "\n",
    "To further address this problem, I will use the venue data the this area from two different places, South Bend and Indianapolis at the current moment - December 8th, 2019. \n",
    "\n",
    "I will compare the different clustering configurations in the same area and try to find out if there are some interesting differences in the local venues."
   ]
  },
  {
   "cell_type": "markdown",
   "metadata": {},
   "source": [
    "## Data Scraping and Description\n",
    "\n",
    "In this section, I will use the Foursquare website to obtain the venue data in the South Bend/Mishawaka area of Indiana. I will further provide a basic description of the data and how it will be used to solve the problem. "
   ]
  },
  {
   "cell_type": "markdown",
   "metadata": {},
   "source": [
    "First of all, I will need the center location information of the South Bend/Mishawaka area."
   ]
  },
  {
   "cell_type": "code",
   "execution_count": 1,
   "metadata": {},
   "outputs": [],
   "source": [
    "# Load related libraries:\n",
    "import pandas as pd\n",
    "import numpy as np\n",
    "from bs4 import BeautifulSoup\n",
    "import requests\n",
    "import csv\n",
    "\n",
    "# convert an address into latitude and longitude values\n",
    "from geopy.geocoders import Nominatim \n",
    "\n",
    "# Matplotlib and associated plotting modules\n",
    "import matplotlib.cm as cm\n",
    "import matplotlib.colors as colors\n",
    "import folium # map rendering library\n",
    "\n",
    "%matplotlib inline"
   ]
  },
  {
   "cell_type": "markdown",
   "metadata": {},
   "source": [
    "### Map of South Bend/Mishawaka Area"
   ]
  },
  {
   "cell_type": "markdown",
   "metadata": {},
   "source": [
    "In general, when talking about the South Bend area, we also consider a nearby city: Mishawaka. Here I show South Bend first and will show a map of Mishawaka, which can be partly visible in the map of South Bend."
   ]
  },
  {
   "cell_type": "code",
   "execution_count": 2,
   "metadata": {
    "scrolled": true
   },
   "outputs": [
    {
     "name": "stdout",
     "output_type": "stream",
     "text": [
      "The geograpical coordinate of South Bend are 41.6833813, -86.2500066.\n"
     ]
    }
   ],
   "source": [
    "# Obtain locations: latitude and longitude\n",
    "address_sb = 'South Bend, Indiana'\n",
    "geolocator = Nominatim(user_agent=\"ny_explorer\")\n",
    "location_sb = geolocator.geocode(address_sb)\n",
    "latitude_sb = location_sb.latitude\n",
    "longitude_sb = location_sb.longitude\n",
    "print('The geograpical coordinate of South Bend are {}, {}.'.format(latitude_sb, longitude_sb))"
   ]
  },
  {
   "cell_type": "markdown",
   "metadata": {},
   "source": [
    "First map of visualization of South Bend:"
   ]
  },
  {
   "cell_type": "code",
   "execution_count": 3,
   "metadata": {},
   "outputs": [
    {
     "data": {
      "text/html": [
       "<div style=\"width:100%;\"><div style=\"position:relative;width:100%;height:0;padding-bottom:60%;\"><iframe src=\"data:text/html;charset=utf-8;base64,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\" style=\"position:absolute;width:100%;height:100%;left:0;top:0;border:none !important;\" allowfullscreen webkitallowfullscreen mozallowfullscreen></iframe></div></div>"
      ],
      "text/plain": [
       "<folium.folium.Map at 0x11a9a8b70>"
      ]
     },
     "execution_count": 3,
     "metadata": {},
     "output_type": "execute_result"
    }
   ],
   "source": [
    "# create map of South Bend using latitude and longitude values\n",
    "map_sb = folium.Map(location=[latitude_sb, longitude_sb], zoom_start=12)\n",
    "map_sb"
   ]
  },
  {
   "cell_type": "code",
   "execution_count": 4,
   "metadata": {},
   "outputs": [
    {
     "name": "stdout",
     "output_type": "stream",
     "text": [
      "The geograpical coordinate of Mishawaka are 41.6619927, -86.1586156.\n"
     ]
    }
   ],
   "source": [
    "# Obtain locations: latitude and longitude\n",
    "address_mi = 'Mishawaka, Indiana'\n",
    "geolocator = Nominatim(user_agent=\"ny_explorer\")\n",
    "location_mi = geolocator.geocode(address_mi)\n",
    "latitude_mi = location_mi.latitude\n",
    "longitude_mi = location_mi.longitude\n",
    "print('The geograpical coordinate of Mishawaka are {}, {}.'.format(latitude_mi, longitude_mi))"
   ]
  },
  {
   "cell_type": "markdown",
   "metadata": {},
   "source": [
    "### Map of Indianapolis"
   ]
  },
  {
   "cell_type": "code",
   "execution_count": 5,
   "metadata": {
    "scrolled": true
   },
   "outputs": [
    {
     "data": {
      "text/html": [
       "<div style=\"width:100%;\"><div style=\"position:relative;width:100%;height:0;padding-bottom:60%;\"><iframe src=\"data:text/html;charset=utf-8;base64,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\" style=\"position:absolute;width:100%;height:100%;left:0;top:0;border:none !important;\" allowfullscreen webkitallowfullscreen mozallowfullscreen></iframe></div></div>"
      ],
      "text/plain": [
       "<folium.folium.Map at 0x11a9c8d30>"
      ]
     },
     "execution_count": 5,
     "metadata": {},
     "output_type": "execute_result"
    }
   ],
   "source": [
    "# Obtain locations: latitude and longitude\n",
    "address_polis = 'Indianapolis, Indiana'\n",
    "geolocator = Nominatim(user_agent=\"ny_explorer\")\n",
    "location_polis = geolocator.geocode(address_polis)\n",
    "latitude_polis = location_polis.latitude\n",
    "longitude_polis = location_polis.longitude\n",
    "# create map of Indianapolis using latitude and longitude values\n",
    "map_polis = folium.Map(location=[latitude_polis, longitude_polis], zoom_start=12)\n",
    "map_polis"
   ]
  },
  {
   "cell_type": "markdown",
   "metadata": {},
   "source": [
    "Since this is clearly not a metropolitan like New York City or Toronto. There are only limited neighborhoods and much fewer venues on the map. And South Bend and Mishawaka are very similar in many aspects, so that I will treat them equally. I will use the venue data without further seperate them into different neighborhood. The clustering procedure will be done using the venue information of the whole area.\n",
    "\n",
    "To accomplish this goal, the latitude and longitude of the area will be set as the median point of South Bend and Mishawaka:"
   ]
  },
  {
   "cell_type": "code",
   "execution_count": 6,
   "metadata": {},
   "outputs": [
    {
     "name": "stdout",
     "output_type": "stream",
     "text": [
      "For the whole South Bend, Mishawaka area, the location information is: latitude 41.673 and longitude -86.204.\n"
     ]
    }
   ],
   "source": [
    "name = 'South Bend, Mishawaka'\n",
    "latitude = (latitude_sb + latitude_mi)/2\n",
    "longitude = (longitude_sb + longitude_mi)/2\n",
    "print(\"For the whole \"+ name + \" area, the location information is: latitude \" + str(round(latitude,3)) + \" and longitude \" + str(round(longitude,3)) + \".\")"
   ]
  },
  {
   "cell_type": "markdown",
   "metadata": {},
   "source": [
    "Secondly, another important thing is to locates the venues and start utilizing the Foursquare API to explore the neighborhoods."
   ]
  },
  {
   "cell_type": "code",
   "execution_count": 7,
   "metadata": {},
   "outputs": [],
   "source": [
    "# Foursquare API\n",
    "CLIENT_ID = '5WD4QPP0N04UIK5QSHQGOE4N40MK3BNFZGZICX0YNBXWGNB5' # your Foursquare ID\n",
    "CLIENT_SECRET = 'K12Q2SP11PV0YTSRIKRDB1YVKUERVF3B3YM0JDADNZXH0LP0' # your Foursquare Secret\n",
    "VERSION_new = '20191208' # Foursquare API version for the current time point\n",
    "radius = 15000 # 15 kilometers\n",
    "LIMIT = 100 # The maximal number of venues can be returned for me is 100."
   ]
  },
  {
   "cell_type": "markdown",
   "metadata": {},
   "source": [
    "### Retrieve South Bend Data Set"
   ]
  },
  {
   "cell_type": "code",
   "execution_count": 8,
   "metadata": {},
   "outputs": [],
   "source": [
    "# ----------------------------- 2019 Venues of SB ----------------------------- #\n",
    "# create the API request URL\n",
    "url_2019 = 'https://api.foursquare.com/v2/venues/explore?&client_id={}&client_secret={}&v={}&ll={},{}&radius={}&limit={}'.format(\n",
    "    CLIENT_ID, \n",
    "    CLIENT_SECRET, \n",
    "    VERSION_new, # 2019 data using the Version_new\n",
    "    latitude, \n",
    "    longitude, \n",
    "    radius, \n",
    "    LIMIT)\n",
    "\n",
    "# make the GET request\n",
    "results_2019 = requests.get(url_2019).json()[\"response\"]['groups'][0]['items']\n",
    "\n",
    "venues_list_2019=[]\n",
    "# return only relevant information for each nearby venue\n",
    "venues_list_2019.append([(v['venue']['name'], \n",
    "    v['venue']['location']['city'],\n",
    "    v['venue']['location']['lat'], \n",
    "    v['venue']['location']['lng'],  \n",
    "    v['venue']['categories'][0]['name']) for v in results_2019])"
   ]
  },
  {
   "cell_type": "markdown",
   "metadata": {},
   "source": [
    "Aggregate the 2019 data and let's check the size of the resulting dataframe of South Bend:"
   ]
  },
  {
   "cell_type": "code",
   "execution_count": 9,
   "metadata": {},
   "outputs": [
    {
     "data": {
      "text/html": [
       "<div>\n",
       "<style scoped>\n",
       "    .dataframe tbody tr th:only-of-type {\n",
       "        vertical-align: middle;\n",
       "    }\n",
       "\n",
       "    .dataframe tbody tr th {\n",
       "        vertical-align: top;\n",
       "    }\n",
       "\n",
       "    .dataframe thead th {\n",
       "        text-align: right;\n",
       "    }\n",
       "</style>\n",
       "<table border=\"1\" class=\"dataframe\">\n",
       "  <thead>\n",
       "    <tr style=\"text-align: right;\">\n",
       "      <th></th>\n",
       "      <th>Venue</th>\n",
       "      <th>City</th>\n",
       "      <th>Venue Latitude</th>\n",
       "      <th>Venue Longitude</th>\n",
       "      <th>Venue Category</th>\n",
       "    </tr>\n",
       "  </thead>\n",
       "  <tbody>\n",
       "    <tr>\n",
       "      <th>0</th>\n",
       "      <td>The Galley At Tradewinds</td>\n",
       "      <td>Mishawaka</td>\n",
       "      <td>41.679840</td>\n",
       "      <td>-86.193735</td>\n",
       "      <td>Bar</td>\n",
       "    </tr>\n",
       "    <tr>\n",
       "      <th>1</th>\n",
       "      <td>Planet Fitness</td>\n",
       "      <td>Mishawaka</td>\n",
       "      <td>41.682551</td>\n",
       "      <td>-86.188650</td>\n",
       "      <td>Gym / Fitness Center</td>\n",
       "    </tr>\n",
       "    <tr>\n",
       "      <th>2</th>\n",
       "      <td>Farmer's Market of South Bend</td>\n",
       "      <td>South Bend</td>\n",
       "      <td>41.666112</td>\n",
       "      <td>-86.234187</td>\n",
       "      <td>Farmers Market</td>\n",
       "    </tr>\n",
       "    <tr>\n",
       "      <th>3</th>\n",
       "      <td>Compton Family Ice Arena</td>\n",
       "      <td>South Bend</td>\n",
       "      <td>41.693928</td>\n",
       "      <td>-86.231229</td>\n",
       "      <td>Hockey Arena</td>\n",
       "    </tr>\n",
       "    <tr>\n",
       "      <th>4</th>\n",
       "      <td>Potawatomi Zoo</td>\n",
       "      <td>South Bend</td>\n",
       "      <td>41.669400</td>\n",
       "      <td>-86.217684</td>\n",
       "      <td>Zoo</td>\n",
       "    </tr>\n",
       "  </tbody>\n",
       "</table>\n",
       "</div>"
      ],
      "text/plain": [
       "                           Venue        City  Venue Latitude  Venue Longitude  \\\n",
       "0       The Galley At Tradewinds   Mishawaka       41.679840       -86.193735   \n",
       "1                 Planet Fitness   Mishawaka       41.682551       -86.188650   \n",
       "2  Farmer's Market of South Bend  South Bend       41.666112       -86.234187   \n",
       "3       Compton Family Ice Arena  South Bend       41.693928       -86.231229   \n",
       "4                 Potawatomi Zoo  South Bend       41.669400       -86.217684   \n",
       "\n",
       "         Venue Category  \n",
       "0                   Bar  \n",
       "1  Gym / Fitness Center  \n",
       "2        Farmers Market  \n",
       "3          Hockey Arena  \n",
       "4                   Zoo  "
      ]
     },
     "execution_count": 9,
     "metadata": {},
     "output_type": "execute_result"
    }
   ],
   "source": [
    "nearby_venues_2019 = pd.DataFrame([item for venues_list_2019 in venues_list_2019 for item in venues_list_2019])\n",
    "nearby_venues_2019.columns = ['Venue','City','Venue Latitude','Venue Longitude','Venue Category']\n",
    "nearby_venues_2019.head()"
   ]
  },
  {
   "cell_type": "code",
   "execution_count": 10,
   "metadata": {},
   "outputs": [
    {
     "data": {
      "text/plain": [
       "(100, 5)"
      ]
     },
     "execution_count": 10,
     "metadata": {},
     "output_type": "execute_result"
    }
   ],
   "source": [
    "nearby_venues_2019.shape"
   ]
  },
  {
   "cell_type": "markdown",
   "metadata": {},
   "source": [
    "### Retrieve Indianapolis Data Set"
   ]
  },
  {
   "cell_type": "code",
   "execution_count": 11,
   "metadata": {},
   "outputs": [],
   "source": [
    "# ----------------------------- 2019 Venues of Indianapolis ----------------------------- #\n",
    "# create the API request URL\n",
    "url_2019_2 = 'https://api.foursquare.com/v2/venues/explore?&client_id={}&client_secret={}&v={}&ll={},{}&radius={}&limit={}'.format(\n",
    "    CLIENT_ID, \n",
    "    CLIENT_SECRET, \n",
    "    VERSION_new, # 2019 data using the Version_new\n",
    "    latitude_polis, \n",
    "    longitude_polis, \n",
    "    radius, \n",
    "    LIMIT)\n",
    "\n",
    "# make the GET request\n",
    "results_2019_2 = requests.get(url_2019_2).json()[\"response\"]['groups'][0]['items']\n",
    "\n",
    "venues_list_2019_polis=[]\n",
    "# return only relevant information for each nearby venue\n",
    "venues_list_2019_polis.append([(v['venue']['name'], \n",
    "    v['venue']['location']['city'],\n",
    "    v['venue']['location']['lat'], \n",
    "    v['venue']['location']['lng'],  \n",
    "    v['venue']['categories'][0]['name']) for v in results_2019_2])"
   ]
  },
  {
   "cell_type": "markdown",
   "metadata": {},
   "source": [
    "Aggregate the 2019 data and let's check the size of the resulting dataframe of Indianapolis:"
   ]
  },
  {
   "cell_type": "code",
   "execution_count": 12,
   "metadata": {},
   "outputs": [
    {
     "data": {
      "text/html": [
       "<div>\n",
       "<style scoped>\n",
       "    .dataframe tbody tr th:only-of-type {\n",
       "        vertical-align: middle;\n",
       "    }\n",
       "\n",
       "    .dataframe tbody tr th {\n",
       "        vertical-align: top;\n",
       "    }\n",
       "\n",
       "    .dataframe thead th {\n",
       "        text-align: right;\n",
       "    }\n",
       "</style>\n",
       "<table border=\"1\" class=\"dataframe\">\n",
       "  <thead>\n",
       "    <tr style=\"text-align: right;\">\n",
       "      <th></th>\n",
       "      <th>Venue</th>\n",
       "      <th>City</th>\n",
       "      <th>Venue Latitude</th>\n",
       "      <th>Venue Longitude</th>\n",
       "      <th>Venue Category</th>\n",
       "    </tr>\n",
       "  </thead>\n",
       "  <tbody>\n",
       "    <tr>\n",
       "      <th>0</th>\n",
       "      <td>Monument Circle</td>\n",
       "      <td>Indianapolis</td>\n",
       "      <td>39.768382</td>\n",
       "      <td>-86.158059</td>\n",
       "      <td>Plaza</td>\n",
       "    </tr>\n",
       "    <tr>\n",
       "      <th>1</th>\n",
       "      <td>Hilbert Circle Theatre</td>\n",
       "      <td>Indianapolis</td>\n",
       "      <td>39.768311</td>\n",
       "      <td>-86.157551</td>\n",
       "      <td>Concert Hall</td>\n",
       "    </tr>\n",
       "    <tr>\n",
       "      <th>2</th>\n",
       "      <td>Rocket Fizz</td>\n",
       "      <td>Indianapolis</td>\n",
       "      <td>39.768417</td>\n",
       "      <td>-86.157645</td>\n",
       "      <td>Candy Store</td>\n",
       "    </tr>\n",
       "    <tr>\n",
       "      <th>3</th>\n",
       "      <td>Qdoba Mexican Grill</td>\n",
       "      <td>Indianapolis</td>\n",
       "      <td>39.767481</td>\n",
       "      <td>-86.157860</td>\n",
       "      <td>Mexican Restaurant</td>\n",
       "    </tr>\n",
       "    <tr>\n",
       "      <th>4</th>\n",
       "      <td>PEARings Frozen Yogurt &amp; Beyond</td>\n",
       "      <td>Indianapolis</td>\n",
       "      <td>39.767196</td>\n",
       "      <td>-86.158345</td>\n",
       "      <td>Frozen Yogurt Shop</td>\n",
       "    </tr>\n",
       "  </tbody>\n",
       "</table>\n",
       "</div>"
      ],
      "text/plain": [
       "                             Venue          City  Venue Latitude  \\\n",
       "0                  Monument Circle  Indianapolis       39.768382   \n",
       "1           Hilbert Circle Theatre  Indianapolis       39.768311   \n",
       "2                      Rocket Fizz  Indianapolis       39.768417   \n",
       "3              Qdoba Mexican Grill  Indianapolis       39.767481   \n",
       "4  PEARings Frozen Yogurt & Beyond  Indianapolis       39.767196   \n",
       "\n",
       "   Venue Longitude      Venue Category  \n",
       "0       -86.158059               Plaza  \n",
       "1       -86.157551        Concert Hall  \n",
       "2       -86.157645         Candy Store  \n",
       "3       -86.157860  Mexican Restaurant  \n",
       "4       -86.158345  Frozen Yogurt Shop  "
      ]
     },
     "execution_count": 12,
     "metadata": {},
     "output_type": "execute_result"
    }
   ],
   "source": [
    "nearby_venues_2019_polis = pd.DataFrame([item for venues_list_2019_polis in venues_list_2019_polis for item in venues_list_2019_polis])\n",
    "nearby_venues_2019_polis.columns = ['Venue','City','Venue Latitude','Venue Longitude','Venue Category']\n",
    "nearby_venues_2019_polis.head()"
   ]
  },
  {
   "cell_type": "code",
   "execution_count": 13,
   "metadata": {},
   "outputs": [
    {
     "data": {
      "text/plain": [
       "(100, 5)"
      ]
     },
     "execution_count": 13,
     "metadata": {},
     "output_type": "execute_result"
    }
   ],
   "source": [
    "nearby_venues_2019_polis.shape"
   ]
  },
  {
   "cell_type": "code",
   "execution_count": null,
   "metadata": {},
   "outputs": [],
   "source": []
  }
 ],
 "metadata": {
  "kernelspec": {
   "display_name": "Python 3",
   "language": "python",
   "name": "python3"
  },
  "language_info": {
   "codemirror_mode": {
    "name": "ipython",
    "version": 3
   },
   "file_extension": ".py",
   "mimetype": "text/x-python",
   "name": "python",
   "nbconvert_exporter": "python",
   "pygments_lexer": "ipython3",
   "version": "3.7.3"
  }
 },
 "nbformat": 4,
 "nbformat_minor": 2
}
